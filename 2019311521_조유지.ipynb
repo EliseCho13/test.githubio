{
  "nbformat": 4,
  "nbformat_minor": 0,
  "metadata": {
    "colab": {
      "provenance": [],
      "include_colab_link": true
    },
    "kernelspec": {
      "name": "python3",
      "display_name": "Python 3"
    },
    "language_info": {
      "name": "python"
    }
  },
  "cells": [
    {
      "cell_type": "markdown",
      "metadata": {
        "id": "view-in-github",
        "colab_type": "text"
      },
      "source": [
        "<a href=\"https://colab.research.google.com/github/EliseCho13/EliseCho13.github.io/blob/main/2019311521_%EC%A1%B0%EC%9C%A0%EC%A7%80.ipynb\" target=\"_parent\"><img src=\"https://colab.research.google.com/assets/colab-badge.svg\" alt=\"Open In Colab\"/></a>"
      ]
    },
    {
      "cell_type": "markdown",
      "source": [
        "## Task\n",
        "- Complete **isHappy** function following the description below\n",
        "\n",
        "### Happy Number\n",
        "Write an algorithm to determine if a number **n** is happy.\n",
        "\n",
        "A **happy number** is a number defined by the following process:\n",
        "\n",
        "* Starting with any positive integer, replace the number by the sum of the squares of its digits.\n",
        "* Repeat the process until the number equals 1 (where it will stay), or it **loops endlessly in a cycle** which does not include 1.\n",
        "* Those numbers for which this process **ends in 1** are happy.\n",
        "\n",
        "Return **true** if n is a happy number, and **false** if not.\n",
        "\n",
        "Constraints:\n",
        "1 <= n <= $2^{31}$ - 1"
      ],
      "metadata": {
        "id": "TV3Socqg8BVl"
      }
    },
    {
      "cell_type": "code",
      "execution_count": 9,
      "metadata": {
        "id": "5FcxitVf5kdQ",
        "outputId": "60823c3f-38c8-44ea-9765-6cc398f11d08",
        "colab": {
          "base_uri": "https://localhost:8080/"
        }
      },
      "outputs": [
        {
          "output_type": "stream",
          "name": "stdout",
          "text": [
            "answer is  True\n"
          ]
        }
      ],
      "source": [
        "\n",
        "def isHappy(n):\n",
        "  return caloop(n, 1)\n",
        "\n",
        "\n",
        "def caloop(n, m):\n",
        "  string = str(n)\n",
        "  length = len(string)\n",
        "  cal = loop(length, string)\n",
        "  # print(\"cal is \", cal)\n",
        "  if cal == 1:\n",
        "    return True\n",
        "  elif m > 50:\n",
        "    return False\n",
        "  else:\n",
        "    m+=1\n",
        "    return caloop(cal, m)\n",
        "\n",
        "\n",
        "def loop(n, s):\n",
        "  if n <= 0:\n",
        "    return 0\n",
        "  else:\n",
        "    n-=1\n",
        "    return int(s[n])**2 + loop(n, s)\n",
        "\n",
        "# print(\"answer is \", isHappy(19))\n",
        "\n",
        "\n"
      ]
    },
    {
      "cell_type": "markdown",
      "source": [
        "**Testcase 1.**\n",
        "\n",
        "**Input**: n = 19\n",
        "\n",
        "**Output**: True\n",
        "\n",
        "**Explanation**:\n",
        "\n",
        "$1^2 + 9^2 = 82$\n",
        "\n",
        "$8^2 + 2^2 = 68$\n",
        "\n",
        "$6^2 + 2^2 = 100$\n",
        "\n",
        "$1^2 + 0^2 + 0^2 = 1$"
      ],
      "metadata": {
        "id": "eRrh24Ognrqf"
      }
    },
    {
      "cell_type": "markdown",
      "source": [
        "**Testcase 2.**\n",
        "\n",
        "**Input**: n = 2\n",
        "\n",
        "**Output**: False"
      ],
      "metadata": {
        "id": "dE7YMY8qoPoj"
      }
    }
  ]
}